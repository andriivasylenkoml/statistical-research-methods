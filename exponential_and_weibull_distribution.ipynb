{
  "nbformat": 4,
  "nbformat_minor": 0,
  "metadata": {
    "colab": {
      "provenance": [],
      "authorship_tag": "ABX9TyOUYkWk7vzkvzb/2Qqv/Mln",
      "include_colab_link": true
    },
    "kernelspec": {
      "name": "python3",
      "display_name": "Python 3"
    },
    "language_info": {
      "name": "python"
    }
  },
  "cells": [
    {
      "cell_type": "markdown",
      "metadata": {
        "id": "view-in-github",
        "colab_type": "text"
      },
      "source": [
        "<a href=\"https://colab.research.google.com/github/AndriiVasylenkoML/statistical-research-methods/blob/main/exponential_and_weibull_distribution.ipynb\" target=\"_parent\"><img src=\"https://colab.research.google.com/assets/colab-badge.svg\" alt=\"Open In Colab\"/></a>"
      ]
    },
    {
      "cell_type": "code",
      "execution_count": null,
      "metadata": {
        "id": "pqg9wnTC55w1"
      },
      "outputs": [],
      "source": [
        "import numpy as np\n",
        "from scipy.special import gamma"
      ]
    },
    {
      "cell_type": "code",
      "source": [
        "# Дані для завдання 1 (Гауссів розподіл)\n",
        "x1 = np.array([6, 6.3, 7.8, 6.7, 7.1, 8.8, 6, 7, 8.6])\n",
        "\n",
        "# 1.1 Математичне сподівання\n",
        "mean_x1 = np.mean(x1)\n",
        "\n",
        "# 1.2 Стандартне квадратичне відхилення (СКВ)\n",
        "std_x1 = np.std(x1, ddof=1)\n",
        "\n",
        "print(f\"\"\"\n",
        "Математичне сподівання: {mean_x1}\n",
        "Стандартне квадратичне відхилення (СКВ): {std_x1}\n",
        "\"\"\")"
      ],
      "metadata": {
        "colab": {
          "base_uri": "https://localhost:8080/"
        },
        "id": "vWa_AD2D769o",
        "outputId": "7a8363c3-89a2-44a9-eb32-ebd799e5f69c"
      },
      "execution_count": null,
      "outputs": [
        {
          "output_type": "stream",
          "name": "stdout",
          "text": [
            "\n",
            "Математичне сподівання: 7.144444444444444\n",
            "Стандартне квадратичне відхилення (СКВ): 1.0513219191940106\n",
            "\n"
          ]
        }
      ]
    },
    {
      "cell_type": "markdown",
      "source": [
        "**Розподіл Вейбула:**  \n",
        "Для розподілу Вейбула параметри 𝑘 (форма) і λ (масштаб) можуть бути оцінені через метод максимального правдоподібності або наближено. Проте для простоти тут можна використовувати оцінку масштабу λ як середнє, а форму 𝑘 обчислити через відношення вибіркової дисперсії до квадрату середнього значення.\n",
        "\n",
        "приблизно оцінює параметр форми 𝑘 для розподілу Вейбула. Давайте розберемося, як вона працює і звідки походить.\n",
        "\n",
        "**Що таке розподіл Вейбула?**\n",
        "Розподіл Вейбула — це гнучкий розподіл, який можна використовувати для моделювання тривалості подій, надійності або часу до настання певних подій (наприклад, до відмови пристрою). Він має два основні параметри:\n",
        "\n",
        "* **Параметр форми 𝑘** (іноді називають 𝛽), який визначає форму кривої розподілу (наприклад, чи вона є експоненційною, нормальною тощо).\n",
        "\n",
        "    У формулі для математичного сподівання розподілу Вейбулла, аргумент гамма-функції завжди має вигляд (1 + 1/k)\n",
        "\n",
        "[![image.png](https://i.postimg.cc/kgwmB6S5/image.png)](https://postimg.cc/0z634Ncg)\n",
        "\n",
        "* **Параметр масштабу 𝜆**, який визначає \"розтягування\" або масштаб кривої.\n",
        "\n",
        "**Суть формули**\n",
        "Оцінка параметра 𝑘 є важливим кроком у моделюванні розподілу Вейбула. Пряма оцінка цього параметра через методи максимального правдоподібності є складною, тому використовуються наближені методи на основі статистичних характеристик вибірки.\n",
        "\n",
        "[![image.png](https://i.postimg.cc/rmWLpdjK/image.png)](https://postimg.cc/1n9dC3LQ)\n",
        "\n",
        "\n",
        "Параметр `ddof=1` в функції `np.var()` вказує на зміщення степеня свободи при обчисленні вибіркової дисперсії.\n",
        "\n",
        "**Дисперсія генеральної сукупності:** Якщо ви маєте повні дані для всієї генеральної сукупності, дисперсія обчислюється за стандартною формулою:\n",
        "\n",
        "\n",
        "[![image.png](https://i.postimg.cc/HWQSs0wQ/image.png)](https://postimg.cc/c6L7Fn5H)\n",
        "\n",
        "**Вибіркова дисперсія:** Коли ми маємо лише вибірку з сукупності, дисперсія зазвичай обчислюється з коригуванням на те, що ми працюємо з неповною інформацією. Для цього потрібно ділити не на 𝑛, а на 𝑛−1 (це називається виправленою дисперсією або несмещенной дисперсією):\n",
        "\n",
        "[![image.png](https://i.postimg.cc/Hkj45byv/image.png)](https://postimg.cc/hXWdRzMV)\n"
      ],
      "metadata": {
        "id": "SKU1SY8p-jQo"
      }
    },
    {
      "cell_type": "code",
      "source": [
        "# Дані для завдання 2 (Експоненційний розподіл та розподіл Вейбула)\n",
        "x2 = np.array([2.6, 2.5, 0.8, 2.8, 2.4, 2.1, 2.3, 3.4, 1.7, 1.7, 2.2, 1.3, 3.4, 2.3, 1.6, 1.4])\n",
        "\n",
        "# 2.1 Експоненційний розподіл: параметр λ\n",
        "mean_x2 = np.mean(x2)\n",
        "lambda_exp = 1 / mean_x2\n",
        "\n",
        "# 2.2 Розподіл Вейбула: оцінки параметрів k і λ\n",
        "variance_x2 = np.var(x2, ddof=1)\n",
        "weibull_k = (variance_x2 / mean_x2**2)**(-1.086)  # приблизна оцінка параметра k\n",
        "weibull_lambda = mean_x2 / gamma(1 + 1/weibull_k)\n",
        "\n",
        "print(f\"\"\"\n",
        "Експоненційний розподіл: параметр λ = {lambda_exp}\n",
        "\\n\n",
        "\\nweibull_k = ({variance_x2} / {mean_x2}**2)**(-1.086)\n",
        "\\nРозподіл Вейбула:\n",
        "\\n  Параметр форми k = {weibull_k}\n",
        "\\n  Параметр масштабу λ = {weibull_lambda}\n",
        "\"\"\")"
      ],
      "metadata": {
        "colab": {
          "base_uri": "https://localhost:8080/"
        },
        "id": "zCvc22LlAR2R",
        "outputId": "fdb65aa0-c4d5-45c0-d3ea-d3fccf1fce13"
      },
      "execution_count": null,
      "outputs": [
        {
          "output_type": "stream",
          "name": "stdout",
          "text": [
            "\n",
            "Експоненційний розподіл: параметр λ = 0.463768115942029\n",
            "\n",
            "\n",
            "\n",
            "weibull_k = (0.5199583333333332 / 2.15625**2)**(-1.086) \n",
            "\n",
            "Розподіл Вейбула:\n",
            "\n",
            "  Параметр форми k = 10.795745414638489\n",
            "\n",
            "  Параметр масштабу λ = 2.259357588434193\n",
            "\n"
          ]
        }
      ]
    },
    {
      "cell_type": "code",
      "source": [
        "# Для завдання 3. Запишемо 10 випадкових чисел від 10 до 30\n",
        "random_numbers = np.random.randint(10, 31, size=10)\n",
        "\n",
        "# Основні характеристики: математичне сподівання; дисперсія, стандартне відхилення\n",
        "mean_random = np.mean(random_numbers)\n",
        "variance_random = np.var(random_numbers, ddof=1)\n",
        "std_random = np.std(random_numbers, ddof=1)\n",
        "print(f\"\"\"\n",
        "Математичне сподівання: {mean_random}\n",
        "Дисперсія: {variance_random}\n",
        "Стандартне відхилення: {std_random}\n",
        "\"\"\")"
      ],
      "metadata": {
        "colab": {
          "base_uri": "https://localhost:8080/"
        },
        "id": "zjCH0ZSp-NPO",
        "outputId": "89891c5e-f6fe-40d3-e9ce-8d0b6d5bebde"
      },
      "execution_count": null,
      "outputs": [
        {
          "output_type": "stream",
          "name": "stdout",
          "text": [
            "\n",
            "Математичне сподівання: 18.5\n",
            "Дисперсія: 47.388888888888886\n",
            "Стандартне відхилення: 6.883958809354461      \n",
            "\n"
          ]
        }
      ]
    },
    {
      "cell_type": "code",
      "source": [],
      "metadata": {
        "id": "FbxUTs1kAyFu"
      },
      "execution_count": null,
      "outputs": []
    }
  ]
}